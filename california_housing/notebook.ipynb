{
 "cells": [
  {
   "cell_type": "code",
   "execution_count": 7,
   "metadata": {},
   "outputs": [],
   "source": [
    "from sklearn.datasets import fetch_california_housing\n",
    "from dask.distributed import Client\n",
    "import dask.dataframe as dd\n",
    "\n",
    "# Parallel computing.\n",
    "client = Client()"
   ]
  },
  {
   "cell_type": "code",
   "execution_count": 8,
   "metadata": {},
   "outputs": [
    {
     "name": "stdout",
     "output_type": "stream",
     "text": [
      "Total number of samples is '20640' and there are '9' columns.\n",
      "\n",
      "   MedInc  HouseAge  AveRooms  AveBedrms  Population  AveOccup  Latitude  \\\n",
      "0  8.3252      41.0  6.984127   1.023810       322.0  2.555556     37.88   \n",
      "1  8.3014      21.0  6.238137   0.971880      2401.0  2.109842     37.86   \n",
      "2  7.2574      52.0  8.288136   1.073446       496.0  2.802260     37.85   \n",
      "3  5.6431      52.0  5.817352   1.073059       558.0  2.547945     37.85   \n",
      "4  3.8462      52.0  6.281853   1.081081       565.0  2.181467     37.85   \n",
      "\n",
      "   Longitude  MedHouseVal  \n",
      "0    -122.23        4.526  \n",
      "1    -122.22        3.585  \n",
      "2    -122.24        3.521  \n",
      "3    -122.25        3.413  \n",
      "4    -122.25        3.422  \n",
      "\n",
      "MedInc         float64\n",
      "HouseAge       float64\n",
      "AveRooms       float64\n",
      "AveBedrms      float64\n",
      "Population     float64\n",
      "AveOccup       float64\n",
      "Latitude       float64\n",
      "Longitude      float64\n",
      "MedHouseVal    float64\n",
      "dtype: object\n"
     ]
    }
   ],
   "source": [
    "ds = fetch_california_housing(as_frame=True)\n",
    "# Parse dataset into dask.\n",
    "ddf = dd.from_pandas(ds.frame, npartitions=4)\n",
    "\n",
    "# Check total number of rows and columns in the dataset.\n",
    "print(f\"Total number of samples is '{ddf.shape[0].compute()}' and there are '{len(ddf.columns)}' columns.\", end=\"\\n\\n\")\n",
    "\n",
    "# Obtain a brief look of the dataset.\n",
    "print(ddf.head(), end=\"\\n\\n\")  # Muestra las primeras filas\n",
    "\n",
    "# Show data types.\n",
    "print(ddf.dtypes) \n",
    "\n",
    "# (Optional) See dataset description.\n",
    "# print(f\"Dataset contextual information:\\n {ds.DESCR}\")"
   ]
  },
  {
   "cell_type": "code",
   "execution_count": 11,
   "metadata": {},
   "outputs": [
    {
     "name": "stdout",
     "output_type": "stream",
     "text": [
      "             MedInc      HouseAge      AveRooms     AveBedrms    Population  \\\n",
      "count  20640.000000  20640.000000  20640.000000  20640.000000  20640.000000   \n",
      "mean       3.870671     28.639486      5.429000      1.096675   1425.476744   \n",
      "std        1.899822     12.585558      2.474173      0.473911   1132.462122   \n",
      "min        0.499900      1.000000      0.846154      0.333333      3.000000   \n",
      "25%        2.750000     22.000000      4.655240      1.009249    833.000000   \n",
      "50%        3.726950     32.000000      5.444261      1.055370   1261.000000   \n",
      "75%        4.995950     41.000000      6.281276      1.108583   1883.000000   \n",
      "max       15.000100     52.000000    141.909091     34.066667  35682.000000   \n",
      "\n",
      "           AveOccup      Latitude     Longitude   MedHouseVal  \n",
      "count  20640.000000  20640.000000  20640.000000  20640.000000  \n",
      "mean       3.070655     35.631861   -119.569704      2.068558  \n",
      "std       10.386050      2.135952      2.003532      1.153956  \n",
      "min        0.692308     32.540000   -124.350000      0.149990  \n",
      "25%        2.482108     34.020000   -120.830000      1.516500  \n",
      "50%        2.893264     36.740000   -118.230000      2.190500  \n",
      "75%        3.498620     37.920000   -117.490000      3.027500  \n",
      "max     1243.333333     41.950000   -114.310000      5.000010  \n"
     ]
    }
   ],
   "source": [
    "# Obtain general metrics.\n",
    "print(ddf.describe().compute())"
   ]
  },
  {
   "cell_type": "code",
   "execution_count": null,
   "metadata": {},
   "outputs": [
    {
     "name": "stdout",
     "output_type": "stream",
     "text": [
      "   MedInc  HouseAge  AveRooms  AveBedrms  Population  AveOccup  Latitude  \\\n",
      "0  8.3252      41.0  6.984127   1.023810       322.0  2.555556     37.88   \n",
      "1  8.3014      21.0  6.238137   0.971880      2401.0  2.109842     37.86   \n",
      "2  7.2574      52.0  8.288136   1.073446       496.0  2.802260     37.85   \n",
      "3  5.6431      52.0  5.817352   1.073059       558.0  2.547945     37.85   \n",
      "4  3.8462      52.0  6.281853   1.081081       565.0  2.181467     37.85   \n",
      "\n",
      "   Longitude  MedHouseVal  \n",
      "0    -122.23        4.526  \n",
      "1    -122.22        3.585  \n",
      "2    -122.24        3.521  \n",
      "3    -122.25        3.413  \n",
      "4    -122.25        3.422  \n"
     ]
    }
   ],
   "source": [
    "# Filter column with condition.\n",
    "print(ddf[ddf['MedHouseVal'] > 3].head())"
   ]
  },
  {
   "cell_type": "code",
   "execution_count": 10,
   "metadata": {},
   "outputs": [
    {
     "name": "stdout",
     "output_type": "stream",
     "text": [
      "AveRooms\n",
      "1.000000     1.375\n",
      "1.260870     1.125\n",
      "1.378486     2.250\n",
      "1.411290     1.375\n",
      "1.465753     2.750\n",
      "             ...  \n",
      "22.823529    1.063\n",
      "23.994152    0.991\n",
      "24.669118    0.889\n",
      "28.600000    4.200\n",
      "37.063492    1.325\n",
      "Name: MedHouseVal, Length: 19392, dtype: float64\n"
     ]
    }
   ],
   "source": [
    "# Collapse columns from its unique values.\n",
    "print(ddf.groupby(\"AveRooms\")[\"MedHouseVal\"].mean().compute())"
   ]
  },
  {
   "cell_type": "code",
   "execution_count": null,
   "metadata": {},
   "outputs": [
    {
     "name": "stdout",
     "output_type": "stream",
     "text": [
      "0     161.0\n",
      "1    1200.5\n",
      "2     248.0\n",
      "3     279.0\n",
      "4     282.5\n",
      "Name: Population, dtype: float64\n"
     ]
    }
   ],
   "source": [
    "# Apply function in a single column (WITHOUT PARALLEL COMPUTING).\n",
    "print(ddf[\"Population\"].apply(lambda x: x/2, meta=('Population', 'float64')).head())"
   ]
  },
  {
   "cell_type": "code",
   "execution_count": 24,
   "metadata": {},
   "outputs": [
    {
     "name": "stdout",
     "output_type": "stream",
     "text": [
      "   MedInc  HouseAge  AveRooms  AveBedrms  Population  AveOccup  Latitude  \\\n",
      "0  8.3252      41.0  6.984127   1.023810       322.0  2.555556     37.88   \n",
      "1  8.3014      21.0  6.238137   0.971880      2401.0  2.109842     37.86   \n",
      "2  7.2574      52.0  8.288136   1.073446       496.0  2.802260     37.85   \n",
      "3  5.6431      52.0  5.817352   1.073059       558.0  2.547945     37.85   \n",
      "4  3.8462      52.0  6.281853   1.081081       565.0  2.181467     37.85   \n",
      "\n",
      "   Longitude  MedHouseVal  \n",
      "0    -122.23       4.9786  \n",
      "1    -122.22       3.9435  \n",
      "2    -122.24       3.8731  \n",
      "3    -122.25       3.7543  \n",
      "4    -122.25       3.7642  \n"
     ]
    }
   ],
   "source": [
    "# Self-defined function.\n",
    "def increment_prices(df):\n",
    "    df['MedHouseVal'] = df['MedHouseVal'] * 1.1  # +10%\n",
    "    return df\n",
    "\n",
    "# Apply in all partitions (PARALLEL COMPUTING).\n",
    "print(ddf.map_partitions(increment_prices).head())"
   ]
  }
 ],
 "metadata": {
  "kernelspec": {
   "display_name": ".venv",
   "language": "python",
   "name": "python3"
  },
  "language_info": {
   "codemirror_mode": {
    "name": "ipython",
    "version": 3
   },
   "file_extension": ".py",
   "mimetype": "text/x-python",
   "name": "python",
   "nbconvert_exporter": "python",
   "pygments_lexer": "ipython3",
   "version": "3.11.9"
  }
 },
 "nbformat": 4,
 "nbformat_minor": 2
}
