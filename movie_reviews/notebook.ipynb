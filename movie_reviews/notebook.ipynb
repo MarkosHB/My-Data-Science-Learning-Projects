{
 "cells": [
  {
   "cell_type": "code",
   "execution_count": 15,
   "metadata": {},
   "outputs": [],
   "source": [
    "import nltk\n",
    "from nltk.corpus import movie_reviews\n",
    "from nltk.classify import NaiveBayesClassifier\n",
    "from sklearn.model_selection import train_test_split\n",
    "from sklearn.metrics import accuracy_score, classification_report\n",
    "import random"
   ]
  },
  {
   "cell_type": "code",
   "execution_count": null,
   "metadata": {},
   "outputs": [
    {
     "name": "stdout",
     "output_type": "stream",
     "text": [
      "(['synopsis', ':', 'rumored', 'to', 'be', 'about', 'a', 'true', 'person', ',', 'the', 'story', 'of', 'mulan', 'has', 'circulated', 'in', 'oral', 'tradition', 'for', 'over', 'a', 'thousand', 'years', ',', 'and', 'has', 'inspired', 'operas', ',', 'literature', ',', 'and', 'even', 'coinage', '.', '(', 'since', '1984', ',', 'china', 'has', 'been', 'issuing', 'annual', 'gold', 'and', 'silver', 'coin', 'sets', 'commemorating', 'famous', 'historical', 'figures', ';', 'the', '1992', 'set', 'includes', 'mulan', '.', ')', 'in', 'the', 'ballad', 'of', 'mulan', '(', 'written', 'in', 'the', '5th', 'or', '6th', 'century', ')', ',', 'an', 'imperial', 'edict', 'by', 'the', 'khan', '(', 'emperor', ')', 'orders', 'men', 'from', 'each', 'family', 'to', 'be', 'drafted', 'into', 'the', 'army', 'to', 'defend', 'china', '.', 'a', 'girl', \"'\", 's', 'parents', 'hear', 'sighing', ',', 'and', 'think', 'that', 'their', 'daughter', 'mulan', '(', 'the', 'name', 'means', 'magnolia', ')', 'is', 'dreaming', 'of', 'boys', ',', 'but', 'actually', 'she', \"'\", 's', 'dreading', 'what', 'horrors', 'might', 'befall', 'her', 'old', 'infirm', 'father', 'if', 'he', 'were', 'to', 'be', 'drafted', 'off', 'to', 'battle', '.', 'mulan', 'bravely', 'runs', 'away', ',', 'masquerading', 'as', 'a', 'boy', ',', 'to', 'serve', 'in', 'the', 'army', 'instead', 'of', 'her', 'father', '.', 'ten', 'thousand', 'miles', 'and', 'twelve', 'years', 'of', 'brutal', 'war', 'later', ',', 'the', 'army', 'finally', 'returns', 'in', 'triumph', '.', 'the', 'emperor', 'wants', 'to', 'reward', 'mulan', \"'\", 's', 'valor', 'with', 'a', 'prestigious', 'position', 'in', 'government', ',', 'but', 'she', 'declines', ',', 'accepts', 'a', 'horse', ',', 'and', 'returns', 'home', 'quietly', 'to', 'don', 'her', 'true', 'clothes', '.', 'mulan', \"'\", 's', 'old', 'army', 'buddies', 'visit', 'and', 'get', 'the', 'shock', 'of', 'their', 'lives', 'when', 'they', 'find', 'out', 'that', 'mulan', 'is', 'actually', 'a', 'woman', '.', 'the', 'disney', 'animated', 'feature', 'mulan', 'is', 'similar', 'to', 'the', 'ballad', 'story', ',', 'only', 'it', 'adds', 'a', 'modern', 'character', 'for', 'comic', 'relief', ':', 'mushu', 'the', 'dragon', '(', 'eddie', 'murphy', ')', '.', 'in', 'disney', \"'\", 's', 'mulan', ',', 'when', 'a', 'fierce', 'army', 'of', 'invading', 'huns', 'threatens', 'to', 'overrun', 'peaceful', 'china', 'the', 'emperor', 'orders', 'one', 'man', 'from', 'each', 'family', 'to', 'be', 'conscripted', 'into', 'the', 'army', '.', 'old', 'mr', '.', 'fa', '(', 'soon', '-', 'tek', 'oh', ')', 'is', 'handicapped', 'and', 'has', 'no', 'son', ';', 'he', 'has', 'only', 'his', 'spirited', 'young', 'daughter', 'mulan', '(', 'ming', '-', 'na', 'wen', ')', '.', 'fearing', 'for', 'her', 'father', \"'\", 's', 'life', ',', 'the', 'courageous', 'mulan', 'secretly', 'cuts', 'her', 'hair', ',', 'disguises', 'herself', 'as', 'a', 'man', ',', 'and', 'sneaks', 'off', 'to', 'serve', 'in', 'the', 'army', 'in', 'her', 'father', \"'\", 's', 'stead', '.', 'meanwhile', 'mushu', ',', 'the', 'disgraced', 'and', 'demoted', 'guardian', 'dragon', 'of', 'the', 'fa', 'family', ',', 'has', 'been', 'reduced', 'to', 'the', 'size', 'of', 'a', 'squirrel', 'and', 'the', 'status', 'of', 'incense', 'burner', '.', '(', 'his', 'only', 'duty', 'is', 'to', 'ring', 'a', 'gong', '.', ')', 'mushu', 'hits', 'upon', 'a', 'plan', 'to', 'redeem', 'himself', 'and', 'regain', 'his', 'guardian', 'status', 'by', 'helping', 'the', 'disguised', 'mulan', 'to', 'become', 'a', 'macho', 'male', 'warrior', 'hero', '.', 'with', 'the', 'help', 'of', 'mushu', ',', 'a', 'horse', ',', 'and', 'a', 'lucky', 'cricket', ',', 'can', 'army', 'recruit', 'mulan', 'save', 'china', 'and', 'bring', 'honor', 'to', 'the', 'fa', 'family', '?', 'opinion', ':', 'east', 'meets', 'west', '.', 'i', 'know', 'a', 'chef', 'in', 'santa', 'fe', 'that', 'does', 'this', 'sort', 'of', 'magic', ';', 'he', 'combines', 'asian', 'culinary', 'influences', 'from', 'the', 'west', 'coast', 'with', 'latin', 'american', 'from', 'down', 'south', 'and', 'european', 'from', 'the', 'atlantic', 'to', 'concoct', 'new', 'creations', 'that', 'hit', 'just', 'the', 'right', 'combination', 'of', 'flavors', '.', 'from', 'their', 'state', 'of', 'the', 'art', 'animation', 'studio', 'in', 'orlando', ',', 'disney', 'is', 'hoping', 'to', 'work', 'the', 'same', 'kind', 'of', 'east', '/', 'west', 'magic', 'with', 'mulan', '.', 'i', 'mean', ',', 'what', 'would', 'you', 'say', 'if', 'i', 'told', 'you', 'that', 'a', 'new', 'movie', 'featured', 'tang', 'dynasty', 'art', ',', 'with', 'donny', 'osmond', 'singing', ',', 'ming', '-', 'na', 'wen', 'acting', ',', 'and', 'eddie', 'murphy', 'playing', 'a', 'chinese', 'dragon', 'that', 'makes', 'pop', 'references', 'to', 'batman', 'and', 'the', 'reverend', 'jessie', 'jackson', '?', 'yet', 'this', 'is', 'the', 'case', 'in', 'the', 'disney', \"'\", 's', 're', '-', 'interpretation', 'of', 'the', 'familiar', 'chinese', 'classic', '.', 'the', 'end', 'result', 'is', 'spectacular', ';', 'mulan', 'is', 'one', 'of', 'disney', \"'\", 's', 'best', 'movies', 'ever', '.', 'personally', ',', 'i', \"'\", 'm', 'also', 'glad', 'to', 'see', 'the', 'detestable', 'american', 'stereotype', 'of', 'the', 'weak', '-', 'willed', 'subservient', 'asian', 'woman', 'take', 'a', 'beating', ':', 'mulan', 'is', 'portrayed', 'as', 'a', 'normal', ',', 'if', 'spirited', ',', 'compassionate', 'gal', 'capable', 'of', 'taking', 'the', 'initiative', '.', 'mulan', 'is', 'more', 'than', 'just', 'eastern', 'graphics', 'and', 'faces', 'combined', 'with', 'westernized', 'pop', 'and', 'disney', '.', 'kids', 'of', 'any', 'age', 'will', 'like', 'the', 'family', 'themes', ',', 'and', 'will', 'understand', 'the', 'good', 'guys', 'versus', 'bad', 'guys', 'thing', '.', 'and', 'adolescent', 'and', 'preteen', 'girls', 'can', 'appreciate', 'the', 'romance', 'factor', ',', 'while', 'the', 'boys', 'admire', 'the', 'battles', '.', 'and', 'adults', 'can', 'admire', 'those', 'male', '/', 'female', 'nuances', 'as', 'well', 'as', 'the', 'interplay', 'between', 'traditional', 'notions', 'of', 'family', ',', 'honor', ',', 'and', 'duty', 'with', 'industrial', 'age', 'notions', 'of', 'romantic', 'love', ',', 'gumption', ',', 'and', 'questioning', '.', 'but', 'even', 'the', 'tiniest', 'details', 'reveal', 'quality', '.', 'the', 'movie', \"'\", 's', 'art', 'supervisors', 'spent', 'three', 'weeks', 'in', 'china', 'researching', 'the', 'right', 'look', ':', 'negative', 'spaces', ',', 'positive', 'detail', ',', 'period', 'clothing', ',', 'and', 'graphic', 'designs', 'typical', 'of', 'the', 'time', 'and', 'place', '.', 'computers', 'were', 'used', 'for', 'crowd', 'scenes', 'of', 'up', 'to', '30', ',', '000', 'people', ',', 'and', 'a', 'special', 'program', 'called', \"'\", 'attila', \"'\", 'was', 'used', 'for', 'a', 'spectacular', 'sequence', 'involving', '2000', 'attacking', 'huns', 'on', 'horseback', '.', 'and', 'singers', 'osmond', 'and', 'salonga', 'are', 'at', 'the', 'top', 'of', 'their', 'game', '.', 'balance', 'is', 'crucial', '.', 'a', 'movie', 'about', 'a', 'chuckling', 'lone', 'dragon', 'played', 'by', 'eddie', 'murphy', 'might', 'not', 'be', 'disney', \"'\", 's', 'cup', 'of', 'tea', ',', 'but', 'if', 'you', 'use', 'the', 'character', 'as', 'a', 'comic', 'sidekick', 'to', 'balance', 'a', 'determined', 'and', 'spirited', 'heroine', ',', 'then', ',', 'pow', '!', 'the', 'dream', 'team', '.', 'by', 'the', 'same', 'token', ',', 'a', 'tale', 'about', 'a', 'girl', 'in', 'the', 'army', 'might', 'be', 'a', 'sober', 'exercise', 'in', 'filial', 'piety', 'by', 'itself', ',', 'but', 'toss', 'the', 'dragon', 'in', 'there', 'and', 'you', \"'\", 've', 'got', 'enough', 'wahoo', 'individualism', 'for', 'a', 'light', 'hearted', 'disney', 'romp', '.', 'it', \"'\", 's', 'rare', 'that', 'a', 'movie', 'can', 'seamlessly', 'combine', 'elements', 'from', 'both', 'east', 'and', 'west', ',', 'old', 'and', 'young', ',', 'male', 'and', 'female', 'into', 'a', 'cohesive', 'and', 'entertaining', 'whole', ',', 'but', 'mulan', 'hits', 'the', 'universal', 'bullseye', '.', 'it', \"'\", 's', 'movie', 'for', 'any', 'age', ',', 'creed', ',', 'gender', ',', 'or', 'color', '.'], 'pos')\n"
     ]
    }
   ],
   "source": [
    "# Download the dataset.\n",
    "nltk.download('movie_reviews')\n",
    "\n",
    "# Adjunct the review words to its category.\n",
    "reviews = [(list(word.lower() for word in movie_reviews.words(fileid)), category)\n",
    "             for category in movie_reviews.categories()\n",
    "             for fileid in movie_reviews.fileids(category)]\n",
    "\n",
    "# Ramdomize the reviews order.\n",
    "random.shuffle(reviews)\n",
    "\n",
    "# Print the first sample.\n",
    "print(reviews[0]) "
   ]
  },
  {
   "cell_type": "code",
   "execution_count": 17,
   "metadata": {},
   "outputs": [],
   "source": [
    "# Separate the words and categories for training.\n",
    "words, labels = zip(*reviews)\n",
    "\n",
    "# Efectuate the partition of the dataset into training and testing data.\n",
    "x_train, x_test, y_train, y_test = train_test_split(words, labels, test_size=0.2, random_state=42)\n",
    "\n",
    "# Determine what words are present.\n",
    "def is_present(words):\n",
    "    return {word: True for word in words}\n",
    "\n",
    "x_train_features = [(is_present(words), label) for words, label in zip(x_train, y_train)]\n",
    "x_test_features = [(is_present(words), label) for words, label in zip(x_test, y_test)]"
   ]
  },
  {
   "cell_type": "code",
   "execution_count": 18,
   "metadata": {},
   "outputs": [
    {
     "name": "stdout",
     "output_type": "stream",
     "text": [
      "Accuracy: 0.7550\n",
      "Classification Report:\n",
      "              precision    recall  f1-score   support\n",
      "\n",
      "         neg       0.93      0.51      0.65       184\n",
      "         pos       0.70      0.97      0.81       216\n",
      "\n",
      "    accuracy                           0.76       400\n",
      "   macro avg       0.81      0.74      0.73       400\n",
      "weighted avg       0.80      0.76      0.74       400\n",
      "\n"
     ]
    }
   ],
   "source": [
    "# Train the Naive Bayes classifier.\n",
    "model = NaiveBayesClassifier.train(x_train_features)\n",
    "\n",
    "# Make predictions on the test set.\n",
    "y_pred = [model.classify(features) for features, _ in x_test_features]\n",
    "\n",
    "# Evaluate the model.\n",
    "accuracy = accuracy_score(y_test, y_pred)\n",
    "print(f\"Accuracy: {accuracy:.4f}\")\n",
    "print(\"Classification Report:\")\n",
    "print(classification_report(y_test, y_pred))"
   ]
  }
 ],
 "metadata": {
  "kernelspec": {
   "display_name": ".venv",
   "language": "python",
   "name": "python3"
  },
  "language_info": {
   "codemirror_mode": {
    "name": "ipython",
    "version": 3
   },
   "file_extension": ".py",
   "mimetype": "text/x-python",
   "name": "python",
   "nbconvert_exporter": "python",
   "pygments_lexer": "ipython3",
   "version": "3.11.9"
  }
 },
 "nbformat": 4,
 "nbformat_minor": 2
}
