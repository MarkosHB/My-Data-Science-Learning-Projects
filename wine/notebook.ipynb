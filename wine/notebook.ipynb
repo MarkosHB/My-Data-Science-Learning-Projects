{
  "cells": [
    {
      "cell_type": "code",
      "execution_count": 12,
      "metadata": {
        "collapsed": true,
        "colab": {
          "base_uri": "https://localhost:8080/"
        },
        "id": "qd8Dh-DPGh8z",
        "outputId": "fab65fcc-0c56-4074-ce2f-94c9dd16ac5b"
      },
      "outputs": [
        {
          "output_type": "stream",
          "name": "stdout",
          "text": [
            "Reading package lists... Done\n",
            "Building dependency tree... Done\n",
            "Reading state information... Done\n",
            "openjdk-8-jdk is already the newest version (8u442-b06~us1-0ubuntu1~22.04).\n",
            "0 upgraded, 0 newly installed, 0 to remove and 29 not upgraded.\n",
            "Requirement already satisfied: pyspark in /usr/local/lib/python3.11/dist-packages (3.5.5)\n",
            "Requirement already satisfied: py4j==0.10.9.7 in /usr/local/lib/python3.11/dist-packages (from pyspark) (0.10.9.7)\n"
          ]
        }
      ],
      "source": [
        "# Collab config. (Pyspark needs JAVA)\n",
        "!apt-get install openjdk-8-jdk -y\n",
        "!pip install pyspark"
      ]
    },
    {
      "cell_type": "code",
      "execution_count": 25,
      "metadata": {
        "id": "eLQyNX74Gh80"
      },
      "outputs": [],
      "source": [
        "import pandas as pd\n",
        "from sklearn import datasets\n",
        "from pyspark.sql import SparkSession\n",
        "from pyspark.sql.functions import pandas_udf\n",
        "\n",
        "# Init spark session.\n",
        "spark = SparkSession.builder \\\n",
        "    .appName(\"Wine dataset with Spark\") \\\n",
        "    .getOrCreate()"
      ]
    },
    {
      "cell_type": "code",
      "execution_count": 14,
      "metadata": {
        "colab": {
          "base_uri": "https://localhost:8080/"
        },
        "id": "IEKjfbz0Gh81",
        "outputId": "499a1d9c-a1da-4da6-8698-c7c7c5b1586f"
      },
      "outputs": [
        {
          "output_type": "stream",
          "name": "stdout",
          "text": [
            "Total number of samples is '178' and there are '14' columns.\n",
            "\n",
            "+-------+----------+----+-----------------+---------+-------------+----------+--------------------+---------------+---------------+----+----------------------------+-------+------+\n",
            "|alcohol|malic_acid| ash|alcalinity_of_ash|magnesium|total_phenols|flavanoids|nonflavanoid_phenols|proanthocyanins|color_intensity| hue|od280/od315_of_diluted_wines|proline|target|\n",
            "+-------+----------+----+-----------------+---------+-------------+----------+--------------------+---------------+---------------+----+----------------------------+-------+------+\n",
            "|  14.23|      1.71|2.43|             15.6|    127.0|          2.8|      3.06|                0.28|           2.29|           5.64|1.04|                        3.92| 1065.0|     0|\n",
            "|   13.2|      1.78|2.14|             11.2|    100.0|         2.65|      2.76|                0.26|           1.28|           4.38|1.05|                         3.4| 1050.0|     0|\n",
            "|  13.16|      2.36|2.67|             18.6|    101.0|          2.8|      3.24|                 0.3|           2.81|           5.68|1.03|                        3.17| 1185.0|     0|\n",
            "|  14.37|      1.95| 2.5|             16.8|    113.0|         3.85|      3.49|                0.24|           2.18|            7.8|0.86|                        3.45| 1480.0|     0|\n",
            "|  13.24|      2.59|2.87|             21.0|    118.0|          2.8|      2.69|                0.39|           1.82|           4.32|1.04|                        2.93|  735.0|     0|\n",
            "|   14.2|      1.76|2.45|             15.2|    112.0|         3.27|      3.39|                0.34|           1.97|           6.75|1.05|                        2.85| 1450.0|     0|\n",
            "|  14.39|      1.87|2.45|             14.6|     96.0|          2.5|      2.52|                 0.3|           1.98|           5.25|1.02|                        3.58| 1290.0|     0|\n",
            "|  14.06|      2.15|2.61|             17.6|    121.0|          2.6|      2.51|                0.31|           1.25|           5.05|1.06|                        3.58| 1295.0|     0|\n",
            "|  14.83|      1.64|2.17|             14.0|     97.0|          2.8|      2.98|                0.29|           1.98|            5.2|1.08|                        2.85| 1045.0|     0|\n",
            "|  13.86|      1.35|2.27|             16.0|     98.0|         2.98|      3.15|                0.22|           1.85|           7.22|1.01|                        3.55| 1045.0|     0|\n",
            "|   14.1|      2.16| 2.3|             18.0|    105.0|         2.95|      3.32|                0.22|           2.38|           5.75|1.25|                        3.17| 1510.0|     0|\n",
            "|  14.12|      1.48|2.32|             16.8|     95.0|          2.2|      2.43|                0.26|           1.57|            5.0|1.17|                        2.82| 1280.0|     0|\n",
            "|  13.75|      1.73|2.41|             16.0|     89.0|          2.6|      2.76|                0.29|           1.81|            5.6|1.15|                         2.9| 1320.0|     0|\n",
            "|  14.75|      1.73|2.39|             11.4|     91.0|          3.1|      3.69|                0.43|           2.81|            5.4|1.25|                        2.73| 1150.0|     0|\n",
            "|  14.38|      1.87|2.38|             12.0|    102.0|          3.3|      3.64|                0.29|           2.96|            7.5| 1.2|                         3.0| 1547.0|     0|\n",
            "|  13.63|      1.81| 2.7|             17.2|    112.0|         2.85|      2.91|                 0.3|           1.46|            7.3|1.28|                        2.88| 1310.0|     0|\n",
            "|   14.3|      1.92|2.72|             20.0|    120.0|          2.8|      3.14|                0.33|           1.97|            6.2|1.07|                        2.65| 1280.0|     0|\n",
            "|  13.83|      1.57|2.62|             20.0|    115.0|         2.95|       3.4|                 0.4|           1.72|            6.6|1.13|                        2.57| 1130.0|     0|\n",
            "|  14.19|      1.59|2.48|             16.5|    108.0|          3.3|      3.93|                0.32|           1.86|            8.7|1.23|                        2.82| 1680.0|     0|\n",
            "|  13.64|       3.1|2.56|             15.2|    116.0|          2.7|      3.03|                0.17|           1.66|            5.1|0.96|                        3.36|  845.0|     0|\n",
            "+-------+----------+----+-----------------+---------+-------------+----------+--------------------+---------------+---------------+----+----------------------------+-------+------+\n",
            "only showing top 20 rows\n",
            "\n",
            "root\n",
            " |-- alcohol: double (nullable = true)\n",
            " |-- malic_acid: double (nullable = true)\n",
            " |-- ash: double (nullable = true)\n",
            " |-- alcalinity_of_ash: double (nullable = true)\n",
            " |-- magnesium: double (nullable = true)\n",
            " |-- total_phenols: double (nullable = true)\n",
            " |-- flavanoids: double (nullable = true)\n",
            " |-- nonflavanoid_phenols: double (nullable = true)\n",
            " |-- proanthocyanins: double (nullable = true)\n",
            " |-- color_intensity: double (nullable = true)\n",
            " |-- hue: double (nullable = true)\n",
            " |-- od280/od315_of_diluted_wines: double (nullable = true)\n",
            " |-- proline: double (nullable = true)\n",
            " |-- target: long (nullable = true)\n",
            "\n"
          ]
        }
      ],
      "source": [
        "ds = datasets.load_wine(as_frame=True)\n",
        "# Parse dataset into spark.\n",
        "df = spark.createDataFrame(ds.frame)\n",
        "\n",
        "# Check total number of rows and columns in the dataset.\n",
        "print(f\"Total number of samples is '{df.count()}' and there are '{len(df.columns)}' columns.\", end=\"\\n\\n\")\n",
        "\n",
        "# Obtain a brief look of the dataset.\n",
        "df.show()\n",
        "df.printSchema()\n",
        "\n",
        "# (Optional) See dataset description.\n",
        "# print(f\"Dataset contextual information:\\n {ds.DESCR}\")"
      ]
    },
    {
      "cell_type": "code",
      "source": [
        "# Clean loaded data (if needed).\n",
        "print(f\"There are {df.drop_duplicates().count()-df.count()} columns duplicated and therefore removed from the dataframe.\")\n",
        "print(f\"There were {df.dropna().count()-df.count()} columns empty and therefore removed from the dataframe.\")"
      ],
      "metadata": {
        "id": "20GS7HMZIgFA",
        "outputId": "ac536714-3c35-4485-a20c-a7d885c80064",
        "colab": {
          "base_uri": "https://localhost:8080/"
        }
      },
      "execution_count": 15,
      "outputs": [
        {
          "output_type": "stream",
          "name": "stdout",
          "text": [
            "There are 0 columns duplicated and therefore removed from the dataframe.\n",
            "There were 0 columns empty and therefore removed from the dataframe.\n"
          ]
        }
      ]
    },
    {
      "cell_type": "code",
      "source": [
        "# General details of dataframe and its columns.\n",
        "df.select(\"*\").describe().show(vertical=True)"
      ],
      "metadata": {
        "id": "Oz8FOYgoliWt",
        "outputId": "b79d3906-ba2e-4cfd-9eef-2b93bd76ba75",
        "colab": {
          "base_uri": "https://localhost:8080/"
        }
      },
      "execution_count": 16,
      "outputs": [
        {
          "output_type": "stream",
          "name": "stdout",
          "text": [
            "-RECORD 0-------------------------------------------\n",
            " summary                      | count               \n",
            " alcohol                      | 178                 \n",
            " malic_acid                   | 178                 \n",
            " ash                          | 178                 \n",
            " alcalinity_of_ash            | 178                 \n",
            " magnesium                    | 178                 \n",
            " total_phenols                | 178                 \n",
            " flavanoids                   | 178                 \n",
            " nonflavanoid_phenols         | 178                 \n",
            " proanthocyanins              | 178                 \n",
            " color_intensity              | 178                 \n",
            " hue                          | 178                 \n",
            " od280/od315_of_diluted_wines | 178                 \n",
            " proline                      | 178                 \n",
            " target                       | 178                 \n",
            "-RECORD 1-------------------------------------------\n",
            " summary                      | mean                \n",
            " alcohol                      | 13.000617977528092  \n",
            " malic_acid                   | 2.3363483146067408  \n",
            " ash                          | 2.3665168539325845  \n",
            " alcalinity_of_ash            | 19.494943820224716  \n",
            " magnesium                    | 99.74157303370787   \n",
            " total_phenols                | 2.295112359550562   \n",
            " flavanoids                   | 2.0292696629213487  \n",
            " nonflavanoid_phenols         | 0.3618539325842696  \n",
            " proanthocyanins              | 1.5908988764044945  \n",
            " color_intensity              | 5.058089882022472   \n",
            " hue                          | 0.9574494382022471  \n",
            " od280/od315_of_diluted_wines | 2.6116853932584276  \n",
            " proline                      | 746.8932584269663   \n",
            " target                       | 0.9382022471910112  \n",
            "-RECORD 2-------------------------------------------\n",
            " summary                      | stddev              \n",
            " alcohol                      | 0.8118265380058592  \n",
            " malic_acid                   | 1.1171460976144625  \n",
            " ash                          | 0.2743440090608147  \n",
            " alcalinity_of_ash            | 3.339563767173507   \n",
            " magnesium                    | 14.28248351529566   \n",
            " total_phenols                | 0.6258510488339889  \n",
            " flavanoids                   | 0.9988586850169472  \n",
            " nonflavanoid_phenols         | 0.1244533402966794  \n",
            " proanthocyanins              | 0.5723588626747611  \n",
            " color_intensity              | 2.3182858718224124  \n",
            " hue                          | 0.22857156582982352 \n",
            " od280/od315_of_diluted_wines | 0.7099904287650503  \n",
            " proline                      | 314.90747427684926  \n",
            " target                       | 0.7750349899850562  \n",
            "-RECORD 3-------------------------------------------\n",
            " summary                      | min                 \n",
            " alcohol                      | 11.03               \n",
            " malic_acid                   | 0.74                \n",
            " ash                          | 1.36                \n",
            " alcalinity_of_ash            | 10.6                \n",
            " magnesium                    | 70.0                \n",
            " total_phenols                | 0.98                \n",
            " flavanoids                   | 0.34                \n",
            " nonflavanoid_phenols         | 0.13                \n",
            " proanthocyanins              | 0.41                \n",
            " color_intensity              | 1.28                \n",
            " hue                          | 0.48                \n",
            " od280/od315_of_diluted_wines | 1.27                \n",
            " proline                      | 278.0               \n",
            " target                       | 0                   \n",
            "-RECORD 4-------------------------------------------\n",
            " summary                      | max                 \n",
            " alcohol                      | 14.83               \n",
            " malic_acid                   | 5.8                 \n",
            " ash                          | 3.23                \n",
            " alcalinity_of_ash            | 30.0                \n",
            " magnesium                    | 162.0               \n",
            " total_phenols                | 3.88                \n",
            " flavanoids                   | 5.08                \n",
            " nonflavanoid_phenols         | 0.66                \n",
            " proanthocyanins              | 3.58                \n",
            " color_intensity              | 13.0                \n",
            " hue                          | 1.71                \n",
            " od280/od315_of_diluted_wines | 4.0                 \n",
            " proline                      | 1680.0              \n",
            " target                       | 2                   \n",
            "\n"
          ]
        }
      ]
    },
    {
      "cell_type": "code",
      "source": [
        "# Obtain first column.\n",
        "print(df.take(1))\n",
        "\n",
        "# Obtain all ocurrences.\n",
        "# df.collect()"
      ],
      "metadata": {
        "id": "AmMrvNaWhcY9",
        "outputId": "2212eec6-f3fa-4505-e416-12ea6f887c94",
        "colab": {
          "base_uri": "https://localhost:8080/"
        }
      },
      "execution_count": 29,
      "outputs": [
        {
          "output_type": "stream",
          "name": "stdout",
          "text": [
            "[Row(alcohol=14.23, malic_acid=1.71, ash=2.43, alcalinity_of_ash=15.6, magnesium=127.0, total_phenols=2.8, flavanoids=3.06, nonflavanoid_phenols=0.28, proanthocyanins=2.29, color_intensity=5.64, hue=1.04, od280/od315_of_diluted_wines=3.92, proline=1065.0, target=0)]\n"
          ]
        }
      ]
    },
    {
      "cell_type": "code",
      "source": [
        "# Print a determined column.\n",
        "df.select(df.alcohol).show()"
      ],
      "metadata": {
        "id": "5UNzXCxmlkpG",
        "outputId": "676d3b16-4b69-4b35-f64a-6aa0e26812d6",
        "colab": {
          "base_uri": "https://localhost:8080/"
        }
      },
      "execution_count": 18,
      "outputs": [
        {
          "output_type": "stream",
          "name": "stdout",
          "text": [
            "+-------+\n",
            "|alcohol|\n",
            "+-------+\n",
            "|  14.23|\n",
            "|   13.2|\n",
            "|  13.16|\n",
            "|  14.37|\n",
            "|  13.24|\n",
            "|   14.2|\n",
            "|  14.39|\n",
            "|  14.06|\n",
            "|  14.83|\n",
            "|  13.86|\n",
            "|   14.1|\n",
            "|  14.12|\n",
            "|  13.75|\n",
            "|  14.75|\n",
            "|  14.38|\n",
            "|  13.63|\n",
            "|   14.3|\n",
            "|  13.83|\n",
            "|  14.19|\n",
            "|  13.64|\n",
            "+-------+\n",
            "only showing top 20 rows\n",
            "\n"
          ]
        }
      ]
    },
    {
      "cell_type": "code",
      "source": [
        "# Print table with column condition.\n",
        "df.filter(df.alcohol > 13).show()"
      ],
      "metadata": {
        "id": "2IfYpwoijbud",
        "outputId": "63b77793-3408-42aa-adc6-988fcafc8ad5",
        "colab": {
          "base_uri": "https://localhost:8080/"
        }
      },
      "execution_count": 19,
      "outputs": [
        {
          "output_type": "stream",
          "name": "stdout",
          "text": [
            "+-------+----------+----+-----------------+---------+-------------+----------+--------------------+---------------+---------------+----+----------------------------+-------+------+\n",
            "|alcohol|malic_acid| ash|alcalinity_of_ash|magnesium|total_phenols|flavanoids|nonflavanoid_phenols|proanthocyanins|color_intensity| hue|od280/od315_of_diluted_wines|proline|target|\n",
            "+-------+----------+----+-----------------+---------+-------------+----------+--------------------+---------------+---------------+----+----------------------------+-------+------+\n",
            "|  14.23|      1.71|2.43|             15.6|    127.0|          2.8|      3.06|                0.28|           2.29|           5.64|1.04|                        3.92| 1065.0|     0|\n",
            "|   13.2|      1.78|2.14|             11.2|    100.0|         2.65|      2.76|                0.26|           1.28|           4.38|1.05|                         3.4| 1050.0|     0|\n",
            "|  13.16|      2.36|2.67|             18.6|    101.0|          2.8|      3.24|                 0.3|           2.81|           5.68|1.03|                        3.17| 1185.0|     0|\n",
            "|  14.37|      1.95| 2.5|             16.8|    113.0|         3.85|      3.49|                0.24|           2.18|            7.8|0.86|                        3.45| 1480.0|     0|\n",
            "|  13.24|      2.59|2.87|             21.0|    118.0|          2.8|      2.69|                0.39|           1.82|           4.32|1.04|                        2.93|  735.0|     0|\n",
            "|   14.2|      1.76|2.45|             15.2|    112.0|         3.27|      3.39|                0.34|           1.97|           6.75|1.05|                        2.85| 1450.0|     0|\n",
            "|  14.39|      1.87|2.45|             14.6|     96.0|          2.5|      2.52|                 0.3|           1.98|           5.25|1.02|                        3.58| 1290.0|     0|\n",
            "|  14.06|      2.15|2.61|             17.6|    121.0|          2.6|      2.51|                0.31|           1.25|           5.05|1.06|                        3.58| 1295.0|     0|\n",
            "|  14.83|      1.64|2.17|             14.0|     97.0|          2.8|      2.98|                0.29|           1.98|            5.2|1.08|                        2.85| 1045.0|     0|\n",
            "|  13.86|      1.35|2.27|             16.0|     98.0|         2.98|      3.15|                0.22|           1.85|           7.22|1.01|                        3.55| 1045.0|     0|\n",
            "|   14.1|      2.16| 2.3|             18.0|    105.0|         2.95|      3.32|                0.22|           2.38|           5.75|1.25|                        3.17| 1510.0|     0|\n",
            "|  14.12|      1.48|2.32|             16.8|     95.0|          2.2|      2.43|                0.26|           1.57|            5.0|1.17|                        2.82| 1280.0|     0|\n",
            "|  13.75|      1.73|2.41|             16.0|     89.0|          2.6|      2.76|                0.29|           1.81|            5.6|1.15|                         2.9| 1320.0|     0|\n",
            "|  14.75|      1.73|2.39|             11.4|     91.0|          3.1|      3.69|                0.43|           2.81|            5.4|1.25|                        2.73| 1150.0|     0|\n",
            "|  14.38|      1.87|2.38|             12.0|    102.0|          3.3|      3.64|                0.29|           2.96|            7.5| 1.2|                         3.0| 1547.0|     0|\n",
            "|  13.63|      1.81| 2.7|             17.2|    112.0|         2.85|      2.91|                 0.3|           1.46|            7.3|1.28|                        2.88| 1310.0|     0|\n",
            "|   14.3|      1.92|2.72|             20.0|    120.0|          2.8|      3.14|                0.33|           1.97|            6.2|1.07|                        2.65| 1280.0|     0|\n",
            "|  13.83|      1.57|2.62|             20.0|    115.0|         2.95|       3.4|                 0.4|           1.72|            6.6|1.13|                        2.57| 1130.0|     0|\n",
            "|  14.19|      1.59|2.48|             16.5|    108.0|          3.3|      3.93|                0.32|           1.86|            8.7|1.23|                        2.82| 1680.0|     0|\n",
            "|  13.64|       3.1|2.56|             15.2|    116.0|          2.7|      3.03|                0.17|           1.66|            5.1|0.96|                        3.36|  845.0|     0|\n",
            "+-------+----------+----+-----------------+---------+-------------+----------+--------------------+---------------+---------------+----+----------------------------+-------+------+\n",
            "only showing top 20 rows\n",
            "\n"
          ]
        }
      ]
    },
    {
      "cell_type": "code",
      "source": [
        "# Collapse columns from its unique values.\n",
        "df.groupby(\"target\").avg().show(vertical=True)"
      ],
      "metadata": {
        "id": "uFxv5DzxlpEi",
        "outputId": "f0b8a85c-05c6-4326-a375-256e3dde881e",
        "colab": {
          "base_uri": "https://localhost:8080/"
        }
      },
      "execution_count": 20,
      "outputs": [
        {
          "output_type": "stream",
          "name": "stdout",
          "text": [
            "-RECORD 0------------------------------------------------\n",
            " target                            | 0                   \n",
            " avg(alcohol)                      | 13.744745762711865  \n",
            " avg(malic_acid)                   | 2.0106779661016954  \n",
            " avg(ash)                          | 2.455593220338984   \n",
            " avg(alcalinity_of_ash)            | 17.037288135593222  \n",
            " avg(magnesium)                    | 106.33898305084746  \n",
            " avg(total_phenols)                | 2.8401694915254234  \n",
            " avg(flavanoids)                   | 2.982372881355932   \n",
            " avg(nonflavanoid_phenols)         | 0.29                \n",
            " avg(proanthocyanins)              | 1.8993220338983055  \n",
            " avg(color_intensity)              | 5.528305084745763   \n",
            " avg(hue)                          | 1.0620338983050848  \n",
            " avg(od280/od315_of_diluted_wines) | 3.1577966101694916  \n",
            " avg(proline)                      | 1115.7118644067796  \n",
            " avg(target)                       | 0.0                 \n",
            "-RECORD 1------------------------------------------------\n",
            " target                            | 1                   \n",
            " avg(alcohol)                      | 12.278732394366196  \n",
            " avg(malic_acid)                   | 1.9326760563380279  \n",
            " avg(ash)                          | 2.2447887323943667  \n",
            " avg(alcalinity_of_ash)            | 20.238028169014086  \n",
            " avg(magnesium)                    | 94.54929577464789   \n",
            " avg(total_phenols)                | 2.2588732394366198  \n",
            " avg(flavanoids)                   | 2.0808450704225354  \n",
            " avg(nonflavanoid_phenols)         | 0.3636619718309859  \n",
            " avg(proanthocyanins)              | 1.6302816901408446  \n",
            " avg(color_intensity)              | 3.0866197183098594  \n",
            " avg(hue)                          | 1.0562816901408447  \n",
            " avg(od280/od315_of_diluted_wines) | 2.785352112676056   \n",
            " avg(proline)                      | 519.5070422535211   \n",
            " avg(target)                       | 1.0                 \n",
            "-RECORD 2------------------------------------------------\n",
            " target                            | 2                   \n",
            " avg(alcohol)                      | 13.153749999999997  \n",
            " avg(malic_acid)                   | 3.3337500000000007  \n",
            " avg(ash)                          | 2.4370833333333333  \n",
            " avg(alcalinity_of_ash)            | 21.416666666666668  \n",
            " avg(magnesium)                    | 99.3125             \n",
            " avg(total_phenols)                | 1.6787500000000002  \n",
            " avg(flavanoids)                   | 0.7814583333333331  \n",
            " avg(nonflavanoid_phenols)         | 0.44749999999999995 \n",
            " avg(proanthocyanins)              | 1.1535416666666667  \n",
            " avg(color_intensity)              | 7.396249979166668   \n",
            " avg(hue)                          | 0.6827083333333334  \n",
            " avg(od280/od315_of_diluted_wines) | 1.6835416666666658  \n",
            " avg(proline)                      | 629.8958333333334   \n",
            " avg(target)                       | 2.0                 \n",
            "\n"
          ]
        }
      ]
    },
    {
      "cell_type": "code",
      "source": [
        "# Define a temporal view from current Spark Session.\n",
        "df.createOrReplaceTempView(\"tableA\")\n",
        "spark.sql(\"SELECT count(*) from tableA\").show()"
      ],
      "metadata": {
        "id": "0Zzi6lofnvSG",
        "outputId": "15297902-807d-4872-c16b-0b20ee96dce3",
        "colab": {
          "base_uri": "https://localhost:8080/"
        }
      },
      "execution_count": 21,
      "outputs": [
        {
          "output_type": "stream",
          "name": "stdout",
          "text": [
            "+--------+\n",
            "|count(1)|\n",
            "+--------+\n",
            "|     178|\n",
            "+--------+\n",
            "\n"
          ]
        }
      ]
    },
    {
      "cell_type": "code",
      "source": [
        "# Define custom pandas functions.\n",
        "@pandas_udf(\"integer\")\n",
        "def add_one(s: pd.Series) -> pd.Series:\n",
        "    return s + 1\n",
        "\n",
        "# Make them accesible from Spark.\n",
        "spark.udf.register(\"add_one\", add_one)\n",
        "spark.sql(\"SELECT DISTINCT add_one(target) FROM tableA\").show()"
      ],
      "metadata": {
        "id": "YycPakcooJfs",
        "outputId": "1b2c98c6-011c-408c-c441-7b28cdb0767f",
        "colab": {
          "base_uri": "https://localhost:8080/"
        }
      },
      "execution_count": 31,
      "outputs": [
        {
          "output_type": "stream",
          "name": "stdout",
          "text": [
            "+---------------+\n",
            "|add_one(target)|\n",
            "+---------------+\n",
            "|              1|\n",
            "|              2|\n",
            "|              3|\n",
            "+---------------+\n",
            "\n"
          ]
        }
      ]
    }
  ],
  "metadata": {
    "kernelspec": {
      "display_name": ".venv",
      "language": "python",
      "name": "python3"
    },
    "language_info": {
      "codemirror_mode": {
        "name": "ipython",
        "version": 3
      },
      "file_extension": ".py",
      "mimetype": "text/x-python",
      "name": "python",
      "nbconvert_exporter": "python",
      "pygments_lexer": "ipython3",
      "version": "3.11.9"
    },
    "colab": {
      "provenance": []
    }
  },
  "nbformat": 4,
  "nbformat_minor": 0
}