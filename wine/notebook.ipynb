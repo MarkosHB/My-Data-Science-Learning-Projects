{
 "cells": [
  {
   "cell_type": "code",
   "execution_count": null,
   "metadata": {},
   "outputs": [],
   "source": [
    "# Collab config. (Pyspark needs JAVA)\n",
    "!apt-get install openjdk-8-jdk -y\n",
    "!pip install pyspark"
   ]
  },
  {
   "cell_type": "code",
   "execution_count": null,
   "metadata": {},
   "outputs": [],
   "source": [
    "from sklearn import datasets\n",
    "from pyspark.sql import SparkSession\n",
    "\n",
    "# Init spark session.\n",
    "spark = SparkSession.builder \\\n",
    "    .appName(\"Wine dataset with Spark\") \\\n",
    "    .getOrCreate()"
   ]
  },
  {
   "cell_type": "code",
   "execution_count": null,
   "metadata": {},
   "outputs": [],
   "source": [
    "ds = datasets.load_wine(as_frame=True)\n",
    "\n",
    "# Check total number of rows and columns in the dataset.\n",
    "print(f\"Total number of samples inside data is '{ds.data.shape[0]}' and there are '{ds.data.shape[1]}' attributes to predict the '{ds.target.name}' column.\", end=\"\\n\\n\")\n",
    "\n",
    "# Parse dataset into spark.\n",
    "df = spark.createDataFrame(ds.frame)\n",
    "# Obtain a brief look of the dataset.\n",
    "df.show()\n",
    "\n",
    "# (Optional) See dataset description.\n",
    "# print(f\"Dataset contextual information:\\n {ds.DESCR}\")"
   ]
  }
 ],
 "metadata": {
  "kernelspec": {
   "display_name": ".venv",
   "language": "python",
   "name": "python3"
  },
  "language_info": {
   "codemirror_mode": {
    "name": "ipython",
    "version": 3
   },
   "file_extension": ".py",
   "mimetype": "text/x-python",
   "name": "python",
   "nbconvert_exporter": "python",
   "pygments_lexer": "ipython3",
   "version": "3.11.9"
  }
 },
 "nbformat": 4,
 "nbformat_minor": 2
}
